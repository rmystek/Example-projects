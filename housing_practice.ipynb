{
 "cells": [
  {
   "cell_type": "code",
   "execution_count": 35,
   "id": "25c9138b",
   "metadata": {},
   "outputs": [],
   "source": [
    "import torch\n",
    "import sklearn\n",
    "from sklearn import datasets\n",
    "import numpy as np\n",
    "import pandas as pd\n",
    "import matplotlib.pyplot as plt\n",
    "\n",
    "from sklearn.metrics import r2_score\n"
   ]
  },
  {
   "cell_type": "code",
   "execution_count": 8,
   "id": "78d966e2",
   "metadata": {},
   "outputs": [],
   "source": [
    "dataset = sklearn.datasets.fetch_california_housing(as_frame = True)"
   ]
  },
  {
   "cell_type": "code",
   "execution_count": 9,
   "id": "ef138cfe",
   "metadata": {},
   "outputs": [
    {
     "name": "stdout",
     "output_type": "stream",
     "text": [
      "data\n",
      "target\n",
      "frame\n",
      "target_names\n",
      "feature_names\n",
      "DESCR\n"
     ]
    }
   ],
   "source": [
    "for x in dataset:\n",
    "    print(x)"
   ]
  },
  {
   "cell_type": "code",
   "execution_count": 10,
   "id": "2b637b03",
   "metadata": {},
   "outputs": [
    {
     "data": {
      "text/html": [
       "<div>\n",
       "<style scoped>\n",
       "    .dataframe tbody tr th:only-of-type {\n",
       "        vertical-align: middle;\n",
       "    }\n",
       "\n",
       "    .dataframe tbody tr th {\n",
       "        vertical-align: top;\n",
       "    }\n",
       "\n",
       "    .dataframe thead th {\n",
       "        text-align: right;\n",
       "    }\n",
       "</style>\n",
       "<table border=\"1\" class=\"dataframe\">\n",
       "  <thead>\n",
       "    <tr style=\"text-align: right;\">\n",
       "      <th></th>\n",
       "      <th>MedInc</th>\n",
       "      <th>HouseAge</th>\n",
       "      <th>AveRooms</th>\n",
       "      <th>AveBedrms</th>\n",
       "      <th>Population</th>\n",
       "      <th>AveOccup</th>\n",
       "      <th>Latitude</th>\n",
       "      <th>Longitude</th>\n",
       "      <th>MedHouseVal</th>\n",
       "    </tr>\n",
       "  </thead>\n",
       "  <tbody>\n",
       "    <tr>\n",
       "      <th>0</th>\n",
       "      <td>8.3252</td>\n",
       "      <td>41.0</td>\n",
       "      <td>6.984127</td>\n",
       "      <td>1.023810</td>\n",
       "      <td>322.0</td>\n",
       "      <td>2.555556</td>\n",
       "      <td>37.88</td>\n",
       "      <td>-122.23</td>\n",
       "      <td>4.526</td>\n",
       "    </tr>\n",
       "    <tr>\n",
       "      <th>1</th>\n",
       "      <td>8.3014</td>\n",
       "      <td>21.0</td>\n",
       "      <td>6.238137</td>\n",
       "      <td>0.971880</td>\n",
       "      <td>2401.0</td>\n",
       "      <td>2.109842</td>\n",
       "      <td>37.86</td>\n",
       "      <td>-122.22</td>\n",
       "      <td>3.585</td>\n",
       "    </tr>\n",
       "    <tr>\n",
       "      <th>2</th>\n",
       "      <td>7.2574</td>\n",
       "      <td>52.0</td>\n",
       "      <td>8.288136</td>\n",
       "      <td>1.073446</td>\n",
       "      <td>496.0</td>\n",
       "      <td>2.802260</td>\n",
       "      <td>37.85</td>\n",
       "      <td>-122.24</td>\n",
       "      <td>3.521</td>\n",
       "    </tr>\n",
       "    <tr>\n",
       "      <th>3</th>\n",
       "      <td>5.6431</td>\n",
       "      <td>52.0</td>\n",
       "      <td>5.817352</td>\n",
       "      <td>1.073059</td>\n",
       "      <td>558.0</td>\n",
       "      <td>2.547945</td>\n",
       "      <td>37.85</td>\n",
       "      <td>-122.25</td>\n",
       "      <td>3.413</td>\n",
       "    </tr>\n",
       "    <tr>\n",
       "      <th>4</th>\n",
       "      <td>3.8462</td>\n",
       "      <td>52.0</td>\n",
       "      <td>6.281853</td>\n",
       "      <td>1.081081</td>\n",
       "      <td>565.0</td>\n",
       "      <td>2.181467</td>\n",
       "      <td>37.85</td>\n",
       "      <td>-122.25</td>\n",
       "      <td>3.422</td>\n",
       "    </tr>\n",
       "  </tbody>\n",
       "</table>\n",
       "</div>"
      ],
      "text/plain": [
       "   MedInc  HouseAge  AveRooms  AveBedrms  Population  AveOccup  Latitude  \\\n",
       "0  8.3252      41.0  6.984127   1.023810       322.0  2.555556     37.88   \n",
       "1  8.3014      21.0  6.238137   0.971880      2401.0  2.109842     37.86   \n",
       "2  7.2574      52.0  8.288136   1.073446       496.0  2.802260     37.85   \n",
       "3  5.6431      52.0  5.817352   1.073059       558.0  2.547945     37.85   \n",
       "4  3.8462      52.0  6.281853   1.081081       565.0  2.181467     37.85   \n",
       "\n",
       "   Longitude  MedHouseVal  \n",
       "0    -122.23        4.526  \n",
       "1    -122.22        3.585  \n",
       "2    -122.24        3.521  \n",
       "3    -122.25        3.413  \n",
       "4    -122.25        3.422  "
      ]
     },
     "execution_count": 10,
     "metadata": {},
     "output_type": "execute_result"
    }
   ],
   "source": [
    "dataset.frame.head()"
   ]
  },
  {
   "cell_type": "code",
   "execution_count": 11,
   "id": "af99baf7",
   "metadata": {},
   "outputs": [],
   "source": [
    "from sklearn.decomposition import PCA\n",
    "from sklearn.preprocessing import StandardScaler\n",
    "from sklearn.model_selection import train_test_split"
   ]
  },
  {
   "cell_type": "code",
   "execution_count": 12,
   "id": "cf753fef",
   "metadata": {},
   "outputs": [
    {
     "name": "stdout",
     "output_type": "stream",
     "text": [
      "[0.25336868 0.23516245]\n",
      "[[ 0.07746229  0.00731846  0.43914246  0.3999956  -0.17178267 -0.01464423\n",
      "   0.56836442 -0.53697448]\n",
      " [ 0.22987873 -0.26078574  0.54668689  0.50184958  0.10062559  0.00262099\n",
      "  -0.37401073  0.4223868 ]]\n"
     ]
    },
    {
     "data": {
      "image/png": "[encoded data removed]",
      "text/plain": [
       "<Figure size 640x480 with 1 Axes>"
      ]
     },
     "metadata": {},
     "output_type": "display_data"
    }
   ],
   "source": [
    "components = PCA(n_components = 2)\n",
    "scaler = StandardScaler()\n",
    "data_scaled = scaler.fit_transform(dataset.data)\n",
    "data_reduced = components.fit_transform(data_scaled)\n",
    "plt.scatter(data_reduced[:,0], data_reduced[:,1])\n",
    "print(components.explained_variance_ratio_)\n",
    "print(components.components_)"
   ]
  },
  {
   "cell_type": "code",
   "execution_count": 13,
   "id": "faeb0215",
   "metadata": {},
   "outputs": [],
   "source": [
    "#General data preparation\n",
    "X_train, X_test, y_train, y_test = train_test_split(dataset.data.to_numpy(), dataset.target.to_numpy(), test_size = 0.2, random_state=1)\n",
    "scaler1 = StandardScaler()\n",
    "scaler1.fit(X_train)\n",
    "X_train_scaled = scaler1.transform(X_train)\n",
    "X_test_scaled = scaler1.transform(X_test)\n"
   ]
  },
  {
   "cell_type": "code",
   "execution_count": 14,
   "id": "3ae097e4",
   "metadata": {},
   "outputs": [],
   "source": [
    "#now let's make linear regression model using sci-kit learn"
   ]
  },
  {
   "cell_type": "code",
   "execution_count": 15,
   "id": "5a2c18eb",
   "metadata": {},
   "outputs": [
    {
     "name": "stdout",
     "output_type": "stream",
     "text": [
      "0.5965968374812352 0.6083741964648377\n"
     ]
    }
   ],
   "source": [
    "basic_linear_model = sklearn.linear_model.LinearRegression()\n",
    "basic_linear_model.fit(X_train_scaled, y_train)\n",
    "print(basic_linear_model.score(X_test_scaled,y_test), basic_linear_model.score(X_train_scaled,y_train))"
   ]
  },
  {
   "cell_type": "code",
   "execution_count": 16,
   "id": "a21e2410",
   "metadata": {},
   "outputs": [],
   "source": [
    "#now a model with polynomial features"
   ]
  },
  {
   "cell_type": "code",
   "execution_count": 17,
   "id": "5d60ffb2",
   "metadata": {},
   "outputs": [
    {
     "name": "stdout",
     "output_type": "stream",
     "text": [
      "0.6646924483229533 0.6857011730817124\n",
      "0.1581842961004103 0.7437017152032466\n",
      "-135.72199593489165 0.7888074769868719\n",
      "-625.2756414002147 0.8256864676958072\n"
     ]
    }
   ],
   "source": [
    "from sklearn.preprocessing import PolynomialFeatures\n",
    "\n",
    "max_deg = 5\n",
    "\n",
    "for i in range(2,max_deg+1):\n",
    "    poly = PolynomialFeatures(i)\n",
    "    poly.fit(X_train_scaled)\n",
    "    X_train_poly = poly.transform(X_train_scaled)\n",
    "    X_test_poly = poly.transform(X_test_scaled)\n",
    "    model = sklearn.linear_model.LinearRegression()\n",
    "    model.fit(X_train_poly, y_train)\n",
    "    print(model.score(X_test_poly,y_test), model.score(X_train_poly,y_train))"
   ]
  },
  {
   "cell_type": "code",
   "execution_count": 18,
   "id": "6193c340",
   "metadata": {},
   "outputs": [],
   "source": [
    "#Conclusion: linear model with polynomial features of degree = 2 gives best results. Higher degress are showing huge variance\n",
    "#and overfit the data"
   ]
  },
  {
   "cell_type": "code",
   "execution_count": 19,
   "id": "c17abafc",
   "metadata": {},
   "outputs": [],
   "source": [
    "#Let's now create basic linear regression model in pytorch"
   ]
  },
  {
   "cell_type": "code",
   "execution_count": 20,
   "id": "b5a64575",
   "metadata": {},
   "outputs": [
    {
     "data": {
      "text/plain": [
       "tensor([0.], requires_grad=True)"
      ]
     },
     "execution_count": 20,
     "metadata": {},
     "output_type": "execute_result"
    }
   ],
   "source": [
    "X_train_scaled = torch.Tensor(X_train_scaled)\n",
    "X_test_scaled = torch.Tensor(X_test_scaled)\n",
    "y_train = torch.Tensor(y_train)\n",
    "\n",
    "w = torch.empty(8)\n",
    "torch.nn.init.normal_(w)\n",
    "b = torch.zeros(1)\n",
    "w.requires_grad_(True)\n",
    "b.requires_grad_(True) "
   ]
  },
  {
   "cell_type": "code",
   "execution_count": 213,
   "id": "5c0cb5b3",
   "metadata": {},
   "outputs": [],
   "source": [
    "epochs = 2000\n",
    "lr = 0.01\n",
    "\n",
    "scores1 = []\n",
    "\n",
    "for i in range(epochs):\n",
    "    y_hat = torch.mv(X_train_scaled, w) + b\n",
    "    \n",
    "    loss = torch.mean((y_train-y_hat)**2)\n",
    "    \n",
    "    loss.backward()\n",
    "    \n",
    "    with torch.no_grad():\n",
    "        w -= lr * w.grad\n",
    "        b -= lr * b.grad\n",
    "        \n",
    "        \n",
    "        \n",
    "    w.grad.zero_()\n",
    "    b.grad.zero_()\n",
    "    \n",
    "    if i%20 == 0:\n",
    "        scores1.append(r2_score(y_test,(torch.mv(X_test_scaled, w) + b).detach().numpy()))\n",
    "    "
   ]
  },
  {
   "cell_type": "code",
   "execution_count": 34,
   "id": "d0daebcb",
   "metadata": {},
   "outputs": [
    {
     "name": "stdout",
     "output_type": "stream",
     "text": [
      "-6.27154145887566\n",
      "-6.474509990020184\n"
     ]
    }
   ],
   "source": [
    "\n",
    "print(r2_score(y_test,(torch.mv(X_test_scaled, w) + b).detach().numpy()))\n",
    "print(r2_score(y_train,(torch.mv(X_train_scaled, w) + b).detach().numpy()))"
   ]
  },
  {
   "cell_type": "code",
   "execution_count": 215,
   "id": "9acc0172",
   "metadata": {},
   "outputs": [],
   "source": [
    "#we achieved the same results as with sklearn LinearRegression model"
   ]
  },
  {
   "cell_type": "code",
   "execution_count": 216,
   "id": "83f0919b",
   "metadata": {},
   "outputs": [],
   "source": [
    "#Let's now implement the same thing, but using higher level pytorch features"
   ]
  },
  {
   "cell_type": "code",
   "execution_count": 234,
   "id": "e8ffc3c4",
   "metadata": {},
   "outputs": [],
   "source": [
    "X_train_scaled = torch.Tensor(X_train_scaled)\n",
    "X_test_scaled = torch.Tensor(X_test_scaled)\n",
    "y_train = torch.Tensor(y_train.reshape(-1,1))\n",
    "y_test = y_test.reshape(-1,1)\n",
    "\n",
    "model = torch.nn.Linear(8,1)\n",
    "\n",
    "optimizer = torch.optim.Adam([model.weight, model.bias])\n",
    "\n",
    "loss = torch.nn.MSELoss()"
   ]
  },
  {
   "cell_type": "code",
   "execution_count": 235,
   "id": "a97acc73",
   "metadata": {},
   "outputs": [],
   "source": [
    "epochs = 4000\n",
    "\n",
    "scores2 = []\n",
    "\n",
    "for i in range(epochs):\n",
    "    y_hat = model(X_train_scaled)\n",
    "    \n",
    "    l = loss(y_train,y_hat)\n",
    "    \n",
    "    l.backward()\n",
    "    \n",
    "    optimizer.step()\n",
    "    \n",
    "    optimizer.zero_grad()\n",
    "    \n",
    "    if i%20 == 0:\n",
    "        scores2.append(r2_score(y_test, model(X_test_scaled).detach().numpy()))\n",
    "    "
   ]
  },
  {
   "cell_type": "code",
   "execution_count": 236,
   "id": "48f2a7b5",
   "metadata": {},
   "outputs": [
    {
     "name": "stdout",
     "output_type": "stream",
     "text": [
      "0.5961881476879546\n",
      "0.6062179260177909\n"
     ]
    }
   ],
   "source": [
    "print(r2_score(y_test, model(X_test_scaled).detach().numpy()))\n",
    "print(r2_score(y_train, model(X_train_scaled).detach().numpy()))\n"
   ]
  },
  {
   "cell_type": "code",
   "execution_count": 237,
   "id": "d4516561",
   "metadata": {},
   "outputs": [
    {
     "data": {
      "text/plain": [
       "<matplotlib.legend.Legend at 0x2ebae4d6560>"
      ]
     },
     "execution_count": 237,
     "metadata": {},
     "output_type": "execute_result"
    },
    {
     "data": {
      "image/png": "[encoded data removed]",
      "text/plain": [
       "<Figure size 640x480 with 1 Axes>"
      ]
     },
     "metadata": {},
     "output_type": "display_data"
    }
   ],
   "source": [
    "fig, ax = plt.subplots()\n",
    "ax.plot(scores1)\n",
    "ax.plot(scores2)\n",
    "ax.legend([\"manual model\", \"high-level model\"])"
   ]
  },
  {
   "cell_type": "code",
   "execution_count": 238,
   "id": "728baf9d",
   "metadata": {},
   "outputs": [],
   "source": [
    "#It appears that in a case as simple as that using Adam can cause more harm than good"
   ]
  },
  {
   "cell_type": "code",
   "execution_count": 253,
   "id": "9077e159",
   "metadata": {},
   "outputs": [],
   "source": [
    "X_train_scaled = torch.Tensor(X_train_scaled)\n",
    "X_test_scaled = torch.Tensor(X_test_scaled)\n",
    "y_train = torch.Tensor(y_train.reshape(-1,1))\n",
    "y_test = y_test.reshape(-1,1)\n",
    "\n",
    "class LinReg(torch.nn.Module):\n",
    "    def __init__(self, input_size, output_size):\n",
    "        super(LinReg, self).__init__()\n",
    "        self.lin = torch.nn.Linear(input_size,output_size)\n",
    "        \n",
    "    def forward(self,X):\n",
    "        return self.lin(X)\n",
    "\n",
    "model = LinReg(8,1)\n",
    "\n",
    "loss = torch.nn.MSELoss()\n",
    "\n",
    "lr = 0.01\n",
    "optimizer = torch.optim.SGD(model.parameters(), lr)"
   ]
  },
  {
   "cell_type": "code",
   "execution_count": 255,
   "id": "91a12112",
   "metadata": {},
   "outputs": [],
   "source": [
    "epochs = 2000\n",
    "\n",
    "for i in range(epochs):\n",
    "    y_hat = model(X_train_scaled)\n",
    "    \n",
    "    l = loss(y_train, y_hat)\n",
    "    \n",
    "    l.backward()\n",
    "    \n",
    "    optimizer.step()\n",
    "    \n",
    "    optimizer.zero_grad()\n",
    "    "
   ]
  },
  {
   "cell_type": "code",
   "execution_count": 254,
   "id": "94548b97",
   "metadata": {},
   "outputs": [
    {
     "name": "stdout",
     "output_type": "stream",
     "text": [
      "-2.4566974043211074\n",
      "-2.5480525880667813\n"
     ]
    }
   ],
   "source": [
    "print(r2_score(y_test, model(X_test_scaled).detach().numpy()))\n",
    "print(r2_score(y_train, model(X_train_scaled).detach().numpy()))"
   ]
  },
  {
   "cell_type": "code",
   "execution_count": 85,
   "id": "10783e4a",
   "metadata": {},
   "outputs": [],
   "source": [
    "X_train_scaled = torch.Tensor(X_train_scaled)\n",
    "X_test_scaled = torch.Tensor(X_test_scaled)\n",
    "y_train = torch.Tensor(y_train.reshape(-1,1))\n",
    "y_test = y_test.reshape(-1,1)\n",
    "\n",
    "class NeuralNet1(torch.nn.Module):\n",
    "    def __init__(self,input_size):\n",
    "        super(NeuralNet1, self).__init__()\n",
    "        self.lin1 = torch.nn.Linear(input_size,10)\n",
    "        self.lin2 = torch.nn.Linear(10,5)\n",
    "        self.lin3 = torch.nn.Linear(5,1)\n",
    "        self.activation1 = torch.nn.ReLU()\n",
    "        self.activation2 = torch.nn.ReLU()\n",
    "    \n",
    "    def forward(self, X):\n",
    "        X = self.lin1(X)\n",
    "        X = self.activation1(X)\n",
    "        X = self.lin2(X)\n",
    "        X = self.activation2(X)\n",
    "        X = self.lin3(X)\n",
    "        return X\n",
    "    \n",
    "model = NeuralNet1(8)    \n",
    "    \n",
    "optimizer = torch.optim.Adam(model.parameters())\n",
    "\n",
    "loss = torch.nn.MSELoss()"
   ]
  },
  {
   "cell_type": "code",
   "execution_count": 88,
   "id": "6a1fab2d",
   "metadata": {},
   "outputs": [],
   "source": [
    "epochs = 10000\n",
    "\n",
    "for i in range(epochs):\n",
    "    y_hat = model(X_train_scaled)\n",
    "    \n",
    "    l = loss(y_train, y_hat)\n",
    "    \n",
    "    l.backward()\n",
    "    \n",
    "    optimizer.step()\n",
    "    \n",
    "    optimizer.zero_grad()\n",
    "    \n"
   ]
  },
  {
   "cell_type": "code",
   "execution_count": 89,
   "id": "61f62b55",
   "metadata": {},
   "outputs": [
    {
     "name": "stdout",
     "output_type": "stream",
     "text": [
      "0.7898999767565872\n",
      "0.8075847446297219\n"
     ]
    }
   ],
   "source": [
    "print(r2_score(y_test, model(X_test_scaled).detach().numpy()))\n",
    "print(r2_score(y_train, model(X_train_scaled).detach().numpy()))"
   ]
  },
  {
   "cell_type": "code",
   "execution_count": 61,
   "id": "881681ee",
   "metadata": {},
   "outputs": [],
   "source": [
    "#Let's go back for a moment to linear regression to try it with regularization"
   ]
  },
  {
   "cell_type": "code",
   "execution_count": null,
   "id": "7f680139",
   "metadata": {},
   "outputs": [],
   "source": [
    "X_train, X_test, y_train, y_test = train_test_split(dataset.data.to_numpy(), dataset.target.to_numpy(), test_size = 0.2, random_state=1)\n",
    "scaler1 = StandardScaler()\n",
    "scaler1.fit(X_train)\n",
    "X_train_scaled = scaler1.transform(X_train)\n",
    "X_test_scaled = scaler1.transform(X_test)"
   ]
  },
  {
   "cell_type": "code",
   "execution_count": 91,
   "id": "61155166",
   "metadata": {},
   "outputs": [
    {
     "name": "stdout",
     "output_type": "stream",
     "text": [
      "Degree: 2, regularization parameter: 0.0, test score: 0.665, train score: 0.686\n",
      "Degree: 2, regularization parameter: 2.0, test score: 0.666, train score: 0.686\n",
      "Degree: 2, regularization parameter: 4.0, test score: 0.666, train score: 0.686\n",
      "Degree: 2, regularization parameter: 6.0, test score: 0.667, train score: 0.686\n",
      "Degree: 2, regularization parameter: 8.0, test score: 0.668, train score: 0.685\n",
      "Degree: 3, regularization parameter: 0.0, test score: 0.158, train score: 0.744\n",
      "Degree: 3, regularization parameter: 4.0, test score: 0.663, train score: 0.740\n",
      "Degree: 3, regularization parameter: 8.0, test score: 0.709, train score: 0.737\n",
      "Degree: 3, regularization parameter: 12.0, test score: 0.716, train score: 0.734\n",
      "Degree: 3, regularization parameter: 16.0, test score: 0.716, train score: 0.732\n"
     ]
    }
   ],
   "source": [
    "\n",
    "\n",
    "from sklearn.preprocessing import PolynomialFeatures\n",
    "from sklearn.linear_model import Ridge\n",
    "\n",
    "max_deg = 3\n",
    "\n",
    "reg_params = np.arange(0,2.5,0.5)\n",
    "\n",
    "for i in range(2,max_deg+1):\n",
    "    for j in reg_params:\n",
    "        poly = PolynomialFeatures(i)\n",
    "        poly.fit(X_train_scaled)\n",
    "        X_train_poly = poly.transform(X_train_scaled)\n",
    "        X_test_poly = poly.transform(X_test_scaled)\n",
    "        modelr = Ridge(alpha = j*(2**i))\n",
    "        modelr.fit(X_train_poly, y_train)\n",
    "        print(f\"Degree: {i}, regularization parameter: {j*(2**i)}, test score: {modelr.score(X_test_poly,y_test):.3f}, train score: {modelr.score(X_train_poly,y_train):.3f}\")"
   ]
  },
  {
   "cell_type": "code",
   "execution_count": 92,
   "id": "f39bf4a2",
   "metadata": {},
   "outputs": [],
   "source": [
    "# the best I managed to achieve is 0.716/0.734 for degree 3 and alpha = 12"
   ]
  },
  {
   "cell_type": "code",
   "execution_count": 149,
   "id": "4050a6c1",
   "metadata": {},
   "outputs": [],
   "source": [
    "X_train, X_test, y_train, y_test = train_test_split(dataset.data.to_numpy(), dataset.target.to_numpy(), test_size = 0.2, random_state=1)\n",
    "scaler1 = StandardScaler()\n",
    "scaler1.fit(X_train)\n",
    "X_train_scaled = scaler1.transform(X_train)\n",
    "X_test_scaled = scaler1.transform(X_test)"
   ]
  },
  {
   "cell_type": "code",
   "execution_count": 151,
   "id": "acde70d0",
   "metadata": {},
   "outputs": [
    {
     "name": "stdout",
     "output_type": "stream",
     "text": [
      "0.596560582668516 0.608364576801149\n",
      "945\n",
      "-3.268659770490942e+22 -1.0003095381187163e+26\n",
      "958\n",
      "-1.6561914361381632e+29 -2.727706235438271e+34\n",
      "640\n",
      "-2.3437366165741877e+34 -3.0647453623256107e+41\n",
      "692\n"
     ]
    }
   ],
   "source": [
    "from sklearn.linear_model import SGDRegressor\n",
    "\n",
    "max_deg = 4\n",
    "\n",
    "for i in range(1,max_deg+1):\n",
    "    \n",
    "    poly = PolynomialFeatures(i)\n",
    "    poly.fit(X_train_scaled)\n",
    "    X_train_poly = poly.transform(X_train_scaled)\n",
    "    X_test_poly = poly.transform(X_test_scaled)\n",
    "    \n",
    "    modelsgd = SGDRegressor(alpha = 0, max_iter = 10000, n_iter_no_change = 500, tol=0.00001, eta0 = 0.001)\n",
    "    modelsgd.fit(X_train_poly, y_train)\n",
    "    print(modelsgd.score(X_test_poly, y_test), modelsgd.score(X_train_poly, y_train))\n",
    "    print(modelsgd.n_iter_)\n"
   ]
  },
  {
   "cell_type": "code",
   "execution_count": 152,
   "id": "93ae252e",
   "metadata": {},
   "outputs": [],
   "source": [
    "#SGD doesn't work "
   ]
  },
  {
   "cell_type": "code",
   "execution_count": 169,
   "id": "1c259562",
   "metadata": {},
   "outputs": [],
   "source": [
    "X_train_scaled = torch.Tensor(X_train_scaled)\n",
    "X_test_scaled = torch.Tensor(X_test_scaled)\n",
    "y_train = torch.Tensor(y_train.reshape(-1,1))\n",
    "y_test = y_test.reshape(-1,1)\n",
    "\n",
    "class NeuralNet2(torch.nn.Module):\n",
    "    def __init__(self,input_size):\n",
    "        super(NeuralNet2, self).__init__()\n",
    "        self.lin1 = torch.nn.Linear(input_size,16)\n",
    "        self.lin2 = torch.nn.Linear(16,8)\n",
    "        self.lin3 = torch.nn.Linear(8,1)\n",
    "        self.activation1 = torch.nn.ReLU()\n",
    "        self.activation2 = torch.nn.ReLU()\n",
    "    \n",
    "    def forward(self, X):\n",
    "        X = self.lin1(X)\n",
    "        X = self.activation1(X)\n",
    "        X = self.lin2(X)\n",
    "        X = self.activation2(X)\n",
    "        X = self.lin3(X)\n",
    "        return X\n",
    "    \n",
    "modelnn2 = NeuralNet2(8)    \n",
    "    \n",
    "optimizer = torch.optim.Adam(modelnn2.parameters())\n",
    "\n",
    "loss = torch.nn.MSELoss()"
   ]
  },
  {
   "cell_type": "code",
   "execution_count": 172,
   "id": "89aecfe9",
   "metadata": {},
   "outputs": [],
   "source": [
    "epochs = 10000\n",
    "\n",
    "for i in range(epochs):\n",
    "    y_hat = modelnn2(X_train_scaled)\n",
    "    \n",
    "    l = loss(y_train, y_hat)\n",
    "    \n",
    "    l.backward()\n",
    "    \n",
    "    optimizer.step()\n",
    "    \n",
    "    optimizer.zero_grad()\n",
    "    "
   ]
  },
  {
   "cell_type": "code",
   "execution_count": 173,
   "id": "3fb7f301",
   "metadata": {},
   "outputs": [
    {
     "name": "stdout",
     "output_type": "stream",
     "text": [
      "0.7924965080297752\n",
      "0.8221002517623216\n"
     ]
    }
   ],
   "source": [
    "print(r2_score(y_test, modelnn2(X_test_scaled).detach().numpy()))\n",
    "print(r2_score(y_train, modelnn2(X_train_scaled).detach().numpy()))"
   ]
  },
  {
   "cell_type": "code",
   "execution_count": 174,
   "id": "f681a693",
   "metadata": {},
   "outputs": [],
   "source": [
    "# 30k epochs, 14x7x1\n",
    "#0.8033538446671039\n",
    "#0.8286151912266871\n",
    "\n",
    "# 30k epochs, 16x8x1    \n",
    "#0.7924965080297752\n",
    "#0.8221002517623216\n",
    "\n",
    "#second model too big"
   ]
  },
  {
   "cell_type": "code",
   "execution_count": 187,
   "id": "4729859f",
   "metadata": {},
   "outputs": [],
   "source": [
    "X_train_scaled = torch.Tensor(X_train_scaled)\n",
    "X_test_scaled = torch.Tensor(X_test_scaled)\n",
    "y_train = torch.Tensor(y_train.reshape(-1,1))\n",
    "y_test = y_test.reshape(-1,1)\n",
    "\n",
    "class NeuralNet3(torch.nn.Module):\n",
    "    def __init__(self,input_size):\n",
    "        super(NeuralNet3, self).__init__()\n",
    "        self.lin1 = torch.nn.Linear(input_size,10)\n",
    "        self.lin2 = torch.nn.Linear(10,5)\n",
    "        self.lin3 = torch.nn.Linear(5,5)\n",
    "        self.lin4 = torch.nn.Linear(5,1)\n",
    "        self.activation1 = torch.nn.ReLU()\n",
    "        self.activation2 = torch.nn.ReLU()\n",
    "        self.activation3 = torch.nn.ReLU()\n",
    "    \n",
    "    def forward(self, X):\n",
    "        X = self.lin1(X)\n",
    "        X = self.activation1(X)\n",
    "        X = self.lin2(X)\n",
    "        X = self.activation2(X)\n",
    "        X = self.lin3(X)\n",
    "        X = self.activation3(X)\n",
    "        X = self.lin4(X)\n",
    "        return X\n",
    "    \n",
    "modelnn3 = NeuralNet3(8)    \n",
    "    \n",
    "optimizer = torch.optim.Adam(modelnn3.parameters())\n",
    "\n",
    "loss = torch.nn.MSELoss()"
   ]
  },
  {
   "cell_type": "code",
   "execution_count": 188,
   "id": "6fd799b0",
   "metadata": {},
   "outputs": [],
   "source": [
    "epochs = 30000\n",
    "\n",
    "for i in range(epochs):\n",
    "    y_hat = modelnn3(X_train_scaled)\n",
    "    \n",
    "    l = loss(y_train, y_hat)\n",
    "    \n",
    "    l.backward()\n",
    "    \n",
    "    optimizer.step()\n",
    "    \n",
    "    optimizer.zero_grad()\n",
    "    "
   ]
  },
  {
   "cell_type": "code",
   "execution_count": 189,
   "id": "a07006e0",
   "metadata": {},
   "outputs": [
    {
     "name": "stdout",
     "output_type": "stream",
     "text": [
      "0.7764227126069352\n",
      "0.8038641640466986\n"
     ]
    }
   ],
   "source": [
    "print(r2_score(y_test, modelnn3(X_test_scaled).detach().numpy()))\n",
    "print(r2_score(y_train, modelnn3(X_train_scaled).detach().numpy()))"
   ]
  },
  {
   "cell_type": "code",
   "execution_count": null,
   "id": "5584b9f5",
   "metadata": {},
   "outputs": [],
   "source": [
    "# 30k epochs, 10x5x3x1\n",
    "#0.7826017643319172\n",
    "#0.8037494784977373\n",
    "\n",
    "#even worse for 10x5x5x1\n",
    "\n",
    "#Conclusion: depth 3 seems good and corresponds to deg 3 of polynomial regression being the best"
   ]
  }
 ],
 "metadata": {
  "kernelspec": {
   "display_name": "Python 3 (ipykernel)",
   "language": "python",
   "name": "python3"
  },
  "language_info": {
   "codemirror_mode": {
    "name": "ipython",
    "version": 3
   },
   "file_extension": ".py",
   "mimetype": "text/x-python",
   "name": "python",
   "nbconvert_exporter": "python",
   "pygments_lexer": "ipython3",
   "version": "3.10.13"
  }
 },
 "nbformat": 4,
 "nbformat_minor": 5
}
