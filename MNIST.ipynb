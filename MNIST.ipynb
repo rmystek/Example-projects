{
 "cells": [
  {
   "cell_type": "code",
   "execution_count": 57,
   "id": "c78ada6e",
   "metadata": {},
   "outputs": [],
   "source": [
    "import torch\n",
    "import numpy as np\n",
    "import pandas as pd\n",
    "import matplotlib.pyplot as plt\n",
    "\n",
    "from sklearn.datasets import load_digits\n",
    "from sklearn.model_selection import train_test_split\n",
    "from sklearn.metrics import accuracy_score"
   ]
  },
  {
   "cell_type": "code",
   "execution_count": 3,
   "id": "25c5d3bf",
   "metadata": {},
   "outputs": [
    {
     "data": {
      "text/html": [
       "<div>\n",
       "<style scoped>\n",
       "    .dataframe tbody tr th:only-of-type {\n",
       "        vertical-align: middle;\n",
       "    }\n",
       "\n",
       "    .dataframe tbody tr th {\n",
       "        vertical-align: top;\n",
       "    }\n",
       "\n",
       "    .dataframe thead th {\n",
       "        text-align: right;\n",
       "    }\n",
       "</style>\n",
       "<table border=\"1\" class=\"dataframe\">\n",
       "  <thead>\n",
       "    <tr style=\"text-align: right;\">\n",
       "      <th></th>\n",
       "      <th>pixel_0_0</th>\n",
       "      <th>pixel_0_1</th>\n",
       "      <th>pixel_0_2</th>\n",
       "      <th>pixel_0_3</th>\n",
       "      <th>pixel_0_4</th>\n",
       "      <th>pixel_0_5</th>\n",
       "      <th>pixel_0_6</th>\n",
       "      <th>pixel_0_7</th>\n",
       "      <th>pixel_1_0</th>\n",
       "      <th>pixel_1_1</th>\n",
       "      <th>...</th>\n",
       "      <th>pixel_6_7</th>\n",
       "      <th>pixel_7_0</th>\n",
       "      <th>pixel_7_1</th>\n",
       "      <th>pixel_7_2</th>\n",
       "      <th>pixel_7_3</th>\n",
       "      <th>pixel_7_4</th>\n",
       "      <th>pixel_7_5</th>\n",
       "      <th>pixel_7_6</th>\n",
       "      <th>pixel_7_7</th>\n",
       "      <th>target</th>\n",
       "    </tr>\n",
       "  </thead>\n",
       "  <tbody>\n",
       "    <tr>\n",
       "      <th>0</th>\n",
       "      <td>0.0</td>\n",
       "      <td>0.0</td>\n",
       "      <td>5.0</td>\n",
       "      <td>13.0</td>\n",
       "      <td>9.0</td>\n",
       "      <td>1.0</td>\n",
       "      <td>0.0</td>\n",
       "      <td>0.0</td>\n",
       "      <td>0.0</td>\n",
       "      <td>0.0</td>\n",
       "      <td>...</td>\n",
       "      <td>0.0</td>\n",
       "      <td>0.0</td>\n",
       "      <td>0.0</td>\n",
       "      <td>6.0</td>\n",
       "      <td>13.0</td>\n",
       "      <td>10.0</td>\n",
       "      <td>0.0</td>\n",
       "      <td>0.0</td>\n",
       "      <td>0.0</td>\n",
       "      <td>0</td>\n",
       "    </tr>\n",
       "    <tr>\n",
       "      <th>1</th>\n",
       "      <td>0.0</td>\n",
       "      <td>0.0</td>\n",
       "      <td>0.0</td>\n",
       "      <td>12.0</td>\n",
       "      <td>13.0</td>\n",
       "      <td>5.0</td>\n",
       "      <td>0.0</td>\n",
       "      <td>0.0</td>\n",
       "      <td>0.0</td>\n",
       "      <td>0.0</td>\n",
       "      <td>...</td>\n",
       "      <td>0.0</td>\n",
       "      <td>0.0</td>\n",
       "      <td>0.0</td>\n",
       "      <td>0.0</td>\n",
       "      <td>11.0</td>\n",
       "      <td>16.0</td>\n",
       "      <td>10.0</td>\n",
       "      <td>0.0</td>\n",
       "      <td>0.0</td>\n",
       "      <td>1</td>\n",
       "    </tr>\n",
       "    <tr>\n",
       "      <th>2</th>\n",
       "      <td>0.0</td>\n",
       "      <td>0.0</td>\n",
       "      <td>0.0</td>\n",
       "      <td>4.0</td>\n",
       "      <td>15.0</td>\n",
       "      <td>12.0</td>\n",
       "      <td>0.0</td>\n",
       "      <td>0.0</td>\n",
       "      <td>0.0</td>\n",
       "      <td>0.0</td>\n",
       "      <td>...</td>\n",
       "      <td>0.0</td>\n",
       "      <td>0.0</td>\n",
       "      <td>0.0</td>\n",
       "      <td>0.0</td>\n",
       "      <td>3.0</td>\n",
       "      <td>11.0</td>\n",
       "      <td>16.0</td>\n",
       "      <td>9.0</td>\n",
       "      <td>0.0</td>\n",
       "      <td>2</td>\n",
       "    </tr>\n",
       "    <tr>\n",
       "      <th>3</th>\n",
       "      <td>0.0</td>\n",
       "      <td>0.0</td>\n",
       "      <td>7.0</td>\n",
       "      <td>15.0</td>\n",
       "      <td>13.0</td>\n",
       "      <td>1.0</td>\n",
       "      <td>0.0</td>\n",
       "      <td>0.0</td>\n",
       "      <td>0.0</td>\n",
       "      <td>8.0</td>\n",
       "      <td>...</td>\n",
       "      <td>0.0</td>\n",
       "      <td>0.0</td>\n",
       "      <td>0.0</td>\n",
       "      <td>7.0</td>\n",
       "      <td>13.0</td>\n",
       "      <td>13.0</td>\n",
       "      <td>9.0</td>\n",
       "      <td>0.0</td>\n",
       "      <td>0.0</td>\n",
       "      <td>3</td>\n",
       "    </tr>\n",
       "    <tr>\n",
       "      <th>4</th>\n",
       "      <td>0.0</td>\n",
       "      <td>0.0</td>\n",
       "      <td>0.0</td>\n",
       "      <td>1.0</td>\n",
       "      <td>11.0</td>\n",
       "      <td>0.0</td>\n",
       "      <td>0.0</td>\n",
       "      <td>0.0</td>\n",
       "      <td>0.0</td>\n",
       "      <td>0.0</td>\n",
       "      <td>...</td>\n",
       "      <td>0.0</td>\n",
       "      <td>0.0</td>\n",
       "      <td>0.0</td>\n",
       "      <td>0.0</td>\n",
       "      <td>2.0</td>\n",
       "      <td>16.0</td>\n",
       "      <td>4.0</td>\n",
       "      <td>0.0</td>\n",
       "      <td>0.0</td>\n",
       "      <td>4</td>\n",
       "    </tr>\n",
       "  </tbody>\n",
       "</table>\n",
       "<p>5 rows × 65 columns</p>\n",
       "</div>"
      ],
      "text/plain": [
       "   pixel_0_0  pixel_0_1  pixel_0_2  pixel_0_3  pixel_0_4  pixel_0_5  \\\n",
       "0        0.0        0.0        5.0       13.0        9.0        1.0   \n",
       "1        0.0        0.0        0.0       12.0       13.0        5.0   \n",
       "2        0.0        0.0        0.0        4.0       15.0       12.0   \n",
       "3        0.0        0.0        7.0       15.0       13.0        1.0   \n",
       "4        0.0        0.0        0.0        1.0       11.0        0.0   \n",
       "\n",
       "   pixel_0_6  pixel_0_7  pixel_1_0  pixel_1_1  ...  pixel_6_7  pixel_7_0  \\\n",
       "0        0.0        0.0        0.0        0.0  ...        0.0        0.0   \n",
       "1        0.0        0.0        0.0        0.0  ...        0.0        0.0   \n",
       "2        0.0        0.0        0.0        0.0  ...        0.0        0.0   \n",
       "3        0.0        0.0        0.0        8.0  ...        0.0        0.0   \n",
       "4        0.0        0.0        0.0        0.0  ...        0.0        0.0   \n",
       "\n",
       "   pixel_7_1  pixel_7_2  pixel_7_3  pixel_7_4  pixel_7_5  pixel_7_6  \\\n",
       "0        0.0        6.0       13.0       10.0        0.0        0.0   \n",
       "1        0.0        0.0       11.0       16.0       10.0        0.0   \n",
       "2        0.0        0.0        3.0       11.0       16.0        9.0   \n",
       "3        0.0        7.0       13.0       13.0        9.0        0.0   \n",
       "4        0.0        0.0        2.0       16.0        4.0        0.0   \n",
       "\n",
       "   pixel_7_7  target  \n",
       "0        0.0       0  \n",
       "1        0.0       1  \n",
       "2        0.0       2  \n",
       "3        0.0       3  \n",
       "4        0.0       4  \n",
       "\n",
       "[5 rows x 65 columns]"
      ]
     },
     "execution_count": 3,
     "metadata": {},
     "output_type": "execute_result"
    }
   ],
   "source": [
    "xy = load_digits(as_frame = True)\n",
    "\n",
    "xy.frame.head()"
   ]
  },
  {
   "cell_type": "code",
   "execution_count": 45,
   "id": "c5f19c43",
   "metadata": {},
   "outputs": [],
   "source": [
    "def convert_to_class_indices(y :torch.Tensor):\n",
    "    return np.argmax(torch.nn.Softmax(dim=1)(y).detach().numpy(),axis=1)\n",
    "\n",
    "class MNISTDataset(torch.utils.data.Dataset):\n",
    "    def __init__(self):\n",
    "        xy = load_digits()\n",
    "        \n",
    "        x_train, x_test, y_train, y_test  = train_test_split(xy.data, xy.target, test_size = 0.15,random_state = 1)\n",
    "        self.x = torch.from_numpy(x_train.astype(np.float32))\n",
    "        self.y = torch.from_numpy(y_train.astype(np.int64))\n",
    "        self.x_test = torch.from_numpy(x_test.astype(np.float32))\n",
    "        self.y_test = torch.from_numpy(y_test.astype(np.int64))\n",
    "        \n",
    "    def __getitem__(self, index):\n",
    "        return self.x[index], self.y[index]\n",
    "    \n",
    "    def __len__(self):\n",
    "        return self.x.shape[0]\n",
    "    \n",
    "dataset = MNISTDataset()\n",
    "    \n",
    "batch_size = 32\n",
    "\n",
    "dataloader = torch.utils.data.DataLoader(dataset = dataset, batch_size = batch_size, shuffle = True)\n",
    "        "
   ]
  },
  {
   "cell_type": "code",
   "execution_count": 46,
   "id": "cab42f2f",
   "metadata": {},
   "outputs": [],
   "source": [
    "class NNet1(torch.nn.Module):\n",
    "    def __init__(self):\n",
    "        super(NNet1, self).__init__()\n",
    "        self.lin1 = torch.nn.Linear(64,32)\n",
    "        self.lin2 = torch.nn.Linear(32,16)\n",
    "        self.lin3 = torch.nn.Linear(16,10)\n",
    "        self.activation1 = torch.nn.ReLU()\n",
    "        self.activation2 = torch.nn.ReLU()\n",
    "        \n",
    "    def forward(self, X):\n",
    "        X = self.activation1(self.lin1(X))\n",
    "        X = self.activation2(self.lin2(X))\n",
    "        X = self.lin3(X)\n",
    "        return X\n",
    "        \n"
   ]
  },
  {
   "cell_type": "code",
   "execution_count": 189,
   "id": "cfe86e5c",
   "metadata": {},
   "outputs": [],
   "source": [
    "model1 = NNet1()\n",
    "\n",
    "optimizer = torch.optim.Adam(model1.parameters())\n",
    "\n",
    "loss = torch.nn.CrossEntropyLoss()"
   ]
  },
  {
   "cell_type": "code",
   "execution_count": 190,
   "id": "bd6c85e9",
   "metadata": {},
   "outputs": [
    {
     "name": "stdout",
     "output_type": "stream",
     "text": [
      "epoch 0 test 0.6333333333333333\n",
      "epoch 0 train 0.5939751146037983\n",
      "epoch 10 test 0.9740740740740741\n",
      "epoch 10 train 0.9842829076620825\n",
      "epoch 20 test 0.9740740740740741\n",
      "epoch 20 train 0.9967256057629339\n",
      "epoch 30 test 0.9703703703703703\n",
      "epoch 30 train 0.9993451211525868\n",
      "epoch 40 test 0.9777777777777777\n",
      "epoch 40 train 1.0\n",
      "epoch 50 test 0.9740740740740741\n",
      "epoch 50 train 1.0\n",
      "epoch 60 test 0.9777777777777777\n",
      "epoch 60 train 1.0\n",
      "epoch 70 test 0.9814814814814815\n",
      "epoch 70 train 1.0\n",
      "epoch 80 test 0.9814814814814815\n",
      "epoch 80 train 1.0\n",
      "epoch 90 test 0.9851851851851852\n",
      "epoch 90 train 1.0\n"
     ]
    }
   ],
   "source": [
    "epochs = 100\n",
    "\n",
    "for i in range(epochs):\n",
    "    for data, target in dataloader:\n",
    "        y_hat = model1(data)\n",
    "        \n",
    "        l = loss(y_hat, target)\n",
    "        \n",
    "        l.backward()\n",
    "        \n",
    "        optimizer.step()\n",
    "        \n",
    "        optimizer.zero_grad()\n",
    "        \n",
    "    if i%10 == 0:\n",
    "        with torch.no_grad():\n",
    "            print(\"epoch\", i, \"test\",accuracy_score(dataset.y_test, convert_to_class_indices(model1(dataset.x_test))))\n",
    "            print(\"epoch\", i, \"train\",accuracy_score(dataset.y, convert_to_class_indices(model1(dataset.x))))\n",
    "        "
   ]
  },
  {
   "cell_type": "code",
   "execution_count": 93,
   "id": "992ef5e4",
   "metadata": {},
   "outputs": [
    {
     "name": "stdout",
     "output_type": "stream",
     "text": [
      "0.9851851851851852\n",
      "1.0\n"
     ]
    }
   ],
   "source": [
    "print(accuracy_score(dataset.y_test, convert_to_class_indices(model1(dataset.x_test))))\n",
    "print(accuracy_score(dataset.y, convert_to_class_indices(model1(dataset.x))))"
   ]
  },
  {
   "cell_type": "code",
   "execution_count": 109,
   "id": "3b33037d",
   "metadata": {},
   "outputs": [],
   "source": [
    "def show_num_and_pred(i):\n",
    "    fig, axes = plt.subplots(1,1, figsize = (2,2))\n",
    "    axes.imshow(dataset.x_test[i].reshape(8,8), cmap = \"Greys\")\n",
    "    print(\"predicted:\",convert_to_class_indices(model1(dataset.x_test[i].reshape(1,-1))))\n",
    "    print(\"correct:\",dataset.y_test[i].item())"
   ]
  },
  {
   "cell_type": "code",
   "execution_count": 110,
   "id": "c475d884",
   "metadata": {},
   "outputs": [
    {
     "data": {
      "text/plain": [
       "array([ 88, 173, 174, 203])"
      ]
     },
     "execution_count": 110,
     "metadata": {},
     "output_type": "execute_result"
    }
   ],
   "source": [
    "wrong = np.arange(len(dataset.y_test))[dataset.y_test.numpy() != convert_to_class_indices(model1(dataset.x_test))]\n",
    "wrong\n",
    "#print(dataset.y_test.numpy() != convert_to_class_indices(model1(dataset.x_test)))"
   ]
  },
  {
   "cell_type": "code",
   "execution_count": 114,
   "id": "969783f2",
   "metadata": {},
   "outputs": [
    {
     "name": "stdout",
     "output_type": "stream",
     "text": [
      "predicted: [9]\n",
      "correct: 1\n"
     ]
    },
    {
     "data": {
      "image/png": "[encoded data removed]",
      "text/plain": [
       "<Figure size 200x200 with 1 Axes>"
      ]
     },
     "metadata": {},
     "output_type": "display_data"
    }
   ],
   "source": [
    "show_num_and_pred(203)"
   ]
  },
  {
   "cell_type": "code",
   "execution_count": 115,
   "id": "2272f662",
   "metadata": {},
   "outputs": [],
   "source": [
    "#results:\n",
    "#0.9851851851851852\n",
    "#1.0"
   ]
  },
  {
   "cell_type": "code",
   "execution_count": 116,
   "id": "6d11bcb7",
   "metadata": {},
   "outputs": [],
   "source": [
    "#Let's try weight decay"
   ]
  },
  {
   "cell_type": "code",
   "execution_count": 184,
   "id": "5a4952d7",
   "metadata": {},
   "outputs": [],
   "source": [
    "model2 = NNet1()\n",
    "\n",
    "optimizer = torch.optim.Adam(model2.parameters(), weight_decay = 0.015)\n",
    "\n",
    "loss = torch.nn.CrossEntropyLoss()"
   ]
  },
  {
   "cell_type": "code",
   "execution_count": 193,
   "id": "188f841e",
   "metadata": {},
   "outputs": [
    {
     "name": "stdout",
     "output_type": "stream",
     "text": [
      "epoch 0 test 0.9851851851851852\n",
      "epoch 0 train 0.9973804846103471\n",
      "epoch 10 test 0.9851851851851852\n",
      "epoch 10 train 0.9973804846103471\n",
      "epoch 20 test 0.9851851851851852\n",
      "epoch 20 train 0.9973804846103471\n",
      "epoch 30 test 0.9851851851851852\n",
      "epoch 30 train 0.9973804846103471\n",
      "epoch 40 test 0.9851851851851852\n",
      "epoch 40 train 0.9973804846103471\n",
      "epoch 50 test 0.9851851851851852\n",
      "epoch 50 train 0.9973804846103471\n",
      "epoch 60 test 0.9851851851851852\n",
      "epoch 60 train 0.9973804846103471\n",
      "epoch 70 test 0.9851851851851852\n",
      "epoch 70 train 0.9973804846103471\n",
      "epoch 80 test 0.9851851851851852\n",
      "epoch 80 train 0.9973804846103471\n",
      "epoch 90 test 0.9851851851851852\n",
      "epoch 90 train 0.9973804846103471\n"
     ]
    }
   ],
   "source": [
    "epochs = 100\n",
    "\n",
    "for i in range(epochs):\n",
    "    for data, target in dataloader:\n",
    "        y_hat = model2(data)\n",
    "        \n",
    "        l = loss(y_hat, target)\n",
    "        \n",
    "        l.backward()\n",
    "        \n",
    "        optimizer.step()\n",
    "        \n",
    "        optimizer.zero_grad()\n",
    "        \n",
    "    if i%10 == 0:\n",
    "        with torch.no_grad():\n",
    "            print(\"epoch\", i, \"test\",accuracy_score(dataset.y_test, convert_to_class_indices(model2(dataset.x_test))))\n",
    "            print(\"epoch\", i, \"train\",accuracy_score(dataset.y, convert_to_class_indices(model2(dataset.x))))\n",
    "        "
   ]
  },
  {
   "cell_type": "code",
   "execution_count": 142,
   "id": "5b3354ba",
   "metadata": {},
   "outputs": [
    {
     "name": "stdout",
     "output_type": "stream",
     "text": [
      "0.9925925925925926\n",
      "1.0\n"
     ]
    }
   ],
   "source": [
    "print(accuracy_score(dataset.y_test, convert_to_class_indices(model2(dataset.x_test))))\n",
    "print(accuracy_score(dataset.y, convert_to_class_indices(model2(dataset.x))))"
   ]
  },
  {
   "cell_type": "code",
   "execution_count": 122,
   "id": "4be388ea",
   "metadata": {},
   "outputs": [],
   "source": [
    "#weight_decay = 0.01\n",
    "#0.9888888888888889\n",
    "#1.0"
   ]
  },
  {
   "cell_type": "code",
   "execution_count": 133,
   "id": "0d0d39f5",
   "metadata": {},
   "outputs": [],
   "source": [
    "#weight_decay = 0.02  it keep oscillating around this\n",
    "#0.9888888888888889\n",
    "#0.9986902423051736"
   ]
  },
  {
   "cell_type": "code",
   "execution_count": 143,
   "id": "8f0f4193",
   "metadata": {},
   "outputs": [],
   "source": [
    "#weight_decay = 0.015\n",
    "#0.9925925925925926\n",
    "#1.0"
   ]
  },
  {
   "cell_type": "code",
   "execution_count": 144,
   "id": "a867ace3",
   "metadata": {},
   "outputs": [],
   "source": [
    "#Let's experiment with Dropout and BatchNorm layers:"
   ]
  },
  {
   "cell_type": "code",
   "execution_count": 203,
   "id": "9db9c860",
   "metadata": {},
   "outputs": [],
   "source": [
    "class NNet2(torch.nn.Module):\n",
    "    def __init__(self):\n",
    "        super(NNet2, self).__init__()\n",
    "        self.lin1 = torch.nn.Linear(64,32)\n",
    "        self.lin2 = torch.nn.Linear(32,16)\n",
    "        self.lin3 = torch.nn.Linear(16,10)\n",
    "        self.activation1 = torch.nn.ReLU()\n",
    "        self.norm = torch.nn.BatchNorm1d(num_features = 16)\n",
    "        self.dropout = torch.nn.Dropout(p=0.2)\n",
    "        \n",
    "    def forward(self, X):\n",
    "        X = self.activation1(self.lin1(X))\n",
    "        X = self.lin2(X)\n",
    "        X = self.norm(X)\n",
    "        X = self.dropout(X)\n",
    "        X = self.activation1(X)\n",
    "        X = self.lin3(X)\n",
    "        return X"
   ]
  },
  {
   "cell_type": "code",
   "execution_count": 204,
   "id": "23f171ab",
   "metadata": {},
   "outputs": [],
   "source": [
    "model3 = NNet2()\n",
    "\n",
    "loss = torch.nn.CrossEntropyLoss()\n",
    "\n",
    "optimizer = torch.optim.Adam(model3.parameters())"
   ]
  },
  {
   "cell_type": "code",
   "execution_count": 206,
   "id": "6450cf41",
   "metadata": {},
   "outputs": [
    {
     "name": "stdout",
     "output_type": "stream",
     "text": [
      "epoch 0 test 0.9814814814814815\n",
      "epoch 0 train 1.0\n",
      "epoch 10 test 0.9814814814814815\n",
      "epoch 10 train 1.0\n",
      "epoch 20 test 0.9777777777777777\n",
      "epoch 20 train 0.9993451211525868\n",
      "epoch 30 test 0.9888888888888889\n",
      "epoch 30 train 1.0\n",
      "epoch 40 test 0.9851851851851852\n",
      "epoch 40 train 1.0\n",
      "epoch 50 test 0.9851851851851852\n",
      "epoch 50 train 1.0\n",
      "epoch 60 test 0.9814814814814815\n",
      "epoch 60 train 1.0\n",
      "epoch 70 test 0.9851851851851852\n",
      "epoch 70 train 1.0\n",
      "epoch 80 test 0.9925925925925926\n",
      "epoch 80 train 1.0\n",
      "epoch 90 test 0.9851851851851852\n",
      "epoch 90 train 1.0\n"
     ]
    }
   ],
   "source": [
    "model3.train()\n",
    "\n",
    "epochs = 100\n",
    "\n",
    "for i in range(epochs):\n",
    "    for data, target in dataloader:\n",
    "        y_hat = model3(data)\n",
    "        \n",
    "        l = loss(y_hat, target)\n",
    "        \n",
    "        l.backward()\n",
    "        \n",
    "        optimizer.step()\n",
    "        \n",
    "        optimizer.zero_grad()\n",
    "        \n",
    "    if i%10 == 0:\n",
    "        with torch.no_grad():\n",
    "            model3.eval()\n",
    "            print(\"epoch\", i, \"test\",accuracy_score(dataset.y_test, convert_to_class_indices(model3(dataset.x_test))))\n",
    "            print(\"epoch\", i, \"train\",accuracy_score(dataset.y, convert_to_class_indices(model3(dataset.x))))\n",
    "        model3.train()"
   ]
  },
  {
   "cell_type": "code",
   "execution_count": 201,
   "id": "38e87652",
   "metadata": {},
   "outputs": [
    {
     "name": "stdout",
     "output_type": "stream",
     "text": [
      "0.9814814814814815\n",
      "1.0\n"
     ]
    }
   ],
   "source": [
    "model3.eval()\n",
    "print(accuracy_score(dataset.y_test, convert_to_class_indices(model3(dataset.x_test))))\n",
    "print(accuracy_score(dataset.y, convert_to_class_indices(model3(dataset.x))))"
   ]
  },
  {
   "cell_type": "code",
   "execution_count": 176,
   "id": "c3dfbe08",
   "metadata": {},
   "outputs": [],
   "source": []
  }
 ],
 "metadata": {
  "kernelspec": {
   "display_name": "Python 3 (ipykernel)",
   "language": "python",
   "name": "python3"
  },
  "language_info": {
   "codemirror_mode": {
    "name": "ipython",
    "version": 3
   },
   "file_extension": ".py",
   "mimetype": "text/x-python",
   "name": "python",
   "nbconvert_exporter": "python",
   "pygments_lexer": "ipython3",
   "version": "3.10.13"
  }
 },
 "nbformat": 4,
 "nbformat_minor": 5
}
